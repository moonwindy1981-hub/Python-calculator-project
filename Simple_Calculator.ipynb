{
 "cells": [
  {
   "cell_type": "markdown",
   "id": "026c9311-89c4-45e5-9476-ca529298bcd7",
   "metadata": {},
   "source": [
    "# 🧮 Mini Calculator Project - Simple_Calculator.ipynb\n",
    "---\n",
    "**Purpose:**  \n",
    "- Used for initial testing and prototyping calculator logic.  \n",
    "\n",
    "**Author(s):**  \n",
    "- Reihaneh Niknahad\n",
    "- Thi Ngoc Hanh Nguyen\n",
    "\n",
    "**Peer Evaluation:**  \n",
    "- Comments:  \n",
    "- Strengths:  \n",
    "- Suggestions:  "
   ]
  },
  {
   "cell_type": "code",
   "execution_count": 1,
   "id": "0cb411dd-81b4-48eb-b53f-36a11e0ff8b0",
   "metadata": {
    "scrolled": true
   },
   "outputs": [
    {
     "name": "stdout",
     "output_type": "stream",
     "text": [
      "* Running on local URL:  http://127.0.0.1:7860\n",
      "* To create a public link, set `share=True` in `launch()`.\n"
     ]
    },
    {
     "data": {
      "text/html": [
       "<div><iframe src=\"http://127.0.0.1:7860/\" width=\"100%\" height=\"500\" allow=\"autoplay; camera; microphone; clipboard-read; clipboard-write;\" frameborder=\"0\" allowfullscreen></iframe></div>"
      ],
      "text/plain": [
       "<IPython.core.display.HTML object>"
      ]
     },
     "metadata": {},
     "output_type": "display_data"
    }
   ],
   "source": [
    "import calculator\n",
    "calculator.launch_ui()"
   ]
  }
 ],
 "metadata": {
  "kernelspec": {
   "display_name": "Python (myenv)",
   "language": "python",
   "name": "myenv"
  },
  "language_info": {
   "codemirror_mode": {
    "name": "ipython",
    "version": 3
   },
   "file_extension": ".py",
   "mimetype": "text/x-python",
   "name": "python",
   "nbconvert_exporter": "python",
   "pygments_lexer": "ipython3",
   "version": "3.11.13"
  }
 },
 "nbformat": 4,
 "nbformat_minor": 5
}
