{
 "cells": [
  {
   "cell_type": "code",
   "execution_count": 2,
   "id": "f72a2017-1d79-4a54-94c0-c9e1d5277635",
   "metadata": {},
   "outputs": [
    {
     "name": "stdout",
     "output_type": "stream",
     "text": [
      "C:\\Users\\LG\\anaconda3\\envs\\myenv\\python.exe\n"
     ]
    }
   ],
   "source": [
    "import sys\n",
    "print(sys.executable)"
   ]
  },
  {
   "cell_type": "code",
   "execution_count": null,
   "id": "e97877dc-a9c3-4a70-902b-7b67fa0708fb",
   "metadata": {},
   "outputs": [],
   "source": [
    "import sys\n",
    "!{sys.executable} -m pip install gradio"
   ]
  },
  {
   "cell_type": "code",
   "execution_count": 1,
   "id": "0cb411dd-81b4-48eb-b53f-36a11e0ff8b0",
   "metadata": {
    "scrolled": true
   },
   "outputs": [
    {
     "name": "stdout",
     "output_type": "stream",
     "text": [
      "* Running on local URL:  http://127.0.0.1:7860\n",
      "* To create a public link, set `share=True` in `launch()`.\n"
     ]
    },
    {
     "data": {
      "text/html": [
       "<div><iframe src=\"http://127.0.0.1:7860/\" width=\"100%\" height=\"500\" allow=\"autoplay; camera; microphone; clipboard-read; clipboard-write;\" frameborder=\"0\" allowfullscreen></iframe></div>"
      ],
      "text/plain": [
       "<IPython.core.display.HTML object>"
      ]
     },
     "metadata": {},
     "output_type": "display_data"
    }
   ],
   "source": [
    "import calculator\n",
    "calculator.launch_ui()"
   ]
  },
  {
   "cell_type": "code",
   "execution_count": 2,
   "id": "eccbd4f5-dd02-45a5-ace8-a5351eee59be",
   "metadata": {
    "scrolled": true
   },
   "outputs": [
    {
     "data": {
      "application/vnd.jupyter.widget-view+json": {
       "model_id": "43275fdc603b4542a199c2748aaa4925",
       "version_major": 2,
       "version_minor": 0
      },
      "text/plain": [
       "VBox(children=(HBox(children=(FloatText(value=0.0, description='A:'), FloatText(value=0.0, description='B:', l…"
      ]
     },
     "metadata": {},
     "output_type": "display_data"
    }
   ],
   "source": [
    "import math\n",
    "import importlib\n",
    "import ipywidgets as w\n",
    "from IPython.display import display\n",
    "\n",
    "# Hàm tính toán\n",
    "def calculate(a, b, op):\n",
    "    if op == '+': return a + b\n",
    "    if op == '-': return a - b\n",
    "    if op == '*': return a * b\n",
    "    if op == '/':\n",
    "        if b == 0: raise ZeroDivisionError(\"Không thể chia cho 0\")\n",
    "        return a / b\n",
    "    if op == '^2': return a ** 2\n",
    "    if op == 'sqrt':\n",
    "        if a < 0: raise ValueError(\"Không thể căn bậc hai số âm\")\n",
    "        return math.sqrt(a)\n",
    "    raise ValueError(\"Toán tử không hỗ trợ\")\n",
    "\n",
    "# Các widget nhập liệu\n",
    "a_input = w.FloatText(description='A:', value=0.0)\n",
    "b_input = w.FloatText(description='B:', value=0.0)\n",
    "op_input = w.Dropdown(description='Phép tính:', value='+', options=[('+','+'), ('-','-'), ('*','*'), ('/','/'), ('^2','^2'), ('sqrt','sqrt')])\n",
    "    \n",
    "butt_calc  = w.Button(description='Tính',  button_style='success')\n",
    "butt_clear = w.Button(description='Clear', button_style='warning')\n",
    "out = w.Output(layout=w.Layout(border='1px solid #ccc', min_height='40px', padding='6px'))\n",
    "\n",
    "# Ẩn ô B nếu là toán tử một ngôi (^2, sqrt)\n",
    "def toggle_b(change):\n",
    "    unary = change['new'] in ('^2','sqrt')\n",
    "    b_input.disabled = unary\n",
    "    b_input.layout.display = 'none' if unary else 'flex'\n",
    "\n",
    "op_input.observe(toggle_b, names='value')\n",
    "toggle_b({'new': op_input.value})\n",
    "\n",
    "# Khi bấm \"Tính\"\n",
    "def on_calc_clicked(_):\n",
    "    with out:\n",
    "        out.clear_output()\n",
    "        try:\n",
    "            a = float(a_input.value)\n",
    "            b = float(b_input.value)\n",
    "            op = op_input.value\n",
    "            res = calculate(a,b,op)\n",
    "\n",
    "            # Hiển thị biểu thức đẹp\n",
    "            symbols = {'+':'+', '-':'-', '*':'×', '/':'÷'}\n",
    "            if op == '^2':\n",
    "                expr = f\"{a}²\" \n",
    "            elif op == 'sqrt':\n",
    "                expr = f\"√{a}\"\n",
    "            else:\n",
    "                expr = f\"{a} {symbols[op]} {b}\"\n",
    "\n",
    "            print(\"Biểu thức:\", expr)\n",
    "            print(\"Kết quả:\", res)\n",
    "        except Exception as e:\n",
    "            print(\"Lỗi:\", e) # Bắt và in ra lỗi kể cả ZeroDivisionError\n",
    "\n",
    "# Khi bấm \"Clear\"\n",
    "def on_clear_clicked(_):\n",
    "    with out:\n",
    "        out.clear_output()\n",
    "    a_input.value = 0.0\n",
    "    b_input.value = 0.0\n",
    "    op_input.value = '+'\n",
    "\n",
    "# Gắn event handler\n",
    "butt_calc.on_click(on_calc_clicked)\n",
    "butt_clear.on_click(on_clear_clicked)\n",
    "\n",
    "# Hiển thị giao diện\n",
    "display(w.VBox([\n",
    "    w.HBox([a_input, b_input]), \n",
    "    op_input, \n",
    "    w.HBox([butt_calc, butt_clear]), \n",
    "    out\n",
    "]))\n",
    "\n",
    "# --------- PHẦN TEST COMMAND LINE ---------\n",
    "\n",
    "def test_command_line():\n",
    "    print(\"Test tính toán từ dòng lệnh (Command line).\")\n",
    "    try:\n",
    "        a = float(input(\"Nhập số a: \"))\n",
    "        b = float(input(\"Nhập số b: \"))\n",
    "        op = input(\"Nhập phép tính (+, -, *, /, ^2, sqrt): \")\n",
    "        result = calculate(a, b, op)\n",
    "        print(f\"Kết quả: {result}\")\n",
    "    except Exception as e:\n",
    "        print(f\"Lỗi: {e}\")\n",
    "\n",
    "\n"
   ]
  },
  {
   "cell_type": "code",
   "execution_count": 2,
   "id": "5debbeab-d8fb-4f74-9dab-a533965c30ef",
   "metadata": {},
   "outputs": [
    {
     "name": "stdout",
     "output_type": "stream",
     "text": [
      "C:\\Users\\LG\\math_core.py\n"
     ]
    }
   ],
   "source": [
    "import math_core\n",
    "print(math_core.__file__)\n"
   ]
  },
  {
   "cell_type": "code",
   "execution_count": 5,
   "id": "d6831603-c5c2-4a8e-84b9-263666ed9074",
   "metadata": {},
   "outputs": [
    {
     "name": "stdout",
     "output_type": "stream",
     "text": [
      "File đang import từ: C:\\Users\\LG\\math_core.py\n",
      "8\n"
     ]
    }
   ],
   "source": [
    "import importlib.util\n",
    "import sys, os\n",
    "\n",
    "# đường dẫn tuyệt đối đến file bạn muốn dùng\n",
    "file_path = r\"C:\\Users\\LG\\math_core.py\"\n",
    "\n",
    "spec = importlib.util.spec_from_file_location(\"math_core\", file_path)\n",
    "math_core = importlib.util.module_from_spec(spec)\n",
    "sys.modules[\"math_core\"] = math_core\n",
    "spec.loader.exec_module(math_core)\n",
    "\n",
    "print(\"File đang import từ:\", math_core.__file__)\n",
    "\n",
    "# Test\n",
    "from math_core import calculate\n",
    "print(calculate(5, 3, '+'))   # 8\n"
   ]
  },
  {
   "cell_type": "code",
   "execution_count": null,
   "id": "256c1220-795d-4b9c-b718-748dee83965d",
   "metadata": {},
   "outputs": [],
   "source": []
  }
 ],
 "metadata": {
  "kernelspec": {
   "display_name": "Python (myenv)",
   "language": "python",
   "name": "myenv"
  },
  "language_info": {
   "codemirror_mode": {
    "name": "ipython",
    "version": 3
   },
   "file_extension": ".py",
   "mimetype": "text/x-python",
   "name": "python",
   "nbconvert_exporter": "python",
   "pygments_lexer": "ipython3",
   "version": "3.11.13"
  }
 },
 "nbformat": 4,
 "nbformat_minor": 5
}
